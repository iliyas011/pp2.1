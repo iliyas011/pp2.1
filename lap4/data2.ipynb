{
 "cells": [
  {
   "cell_type": "code",
   "execution_count": 14,
   "metadata": {},
   "outputs": [
    {
     "name": "stdout",
     "output_type": "stream",
     "text": [
      "85740\n"
     ]
    }
   ],
   "source": [
    "import datetime\n",
    "n = datetime.datetime.now()\n",
    "d1 = a + datetime.timedelta(days=1)\n",
    "print((d1-n).seconds)"
   ]
  },
  {
   "cell_type": "code",
   "execution_count": 13,
   "metadata": {},
   "outputs": [
    {
     "name": "stdout",
     "output_type": "stream",
     "text": [
      "2025-02-16 00:08:04\n"
     ]
    }
   ],
   "source": [
    "import datetime\n",
    "n = datetime.datetime.now()\n",
    "c = n.replace(microsecond=0)\n",
    "print(c)"
   ]
  },
  {
   "cell_type": "code",
   "execution_count": 11,
   "metadata": {},
   "outputs": [
    {
     "name": "stdout",
     "output_type": "stream",
     "text": [
      "Бүгін 2025-02-16 00:06:01.046217\n",
      "ертен  2025-02-17 00:06:01.046217\n",
      "кеше 2025-02-15 00:06:01.046217\n"
     ]
    }
   ],
   "source": [
    "import datetime\n",
    "n = datetime.datetime.now()\n",
    "d1 = n+datetime.timedelta(days=1)\n",
    "d2=n-datetime.timedelta(days=1)\n",
    "print(\"Бүгін\", n)\n",
    "print(\"ертен \", d1)\n",
    "print(\"кеше\", d2)\n",
    "\n"
   ]
  },
  {
   "cell_type": "code",
   "execution_count": null,
   "metadata": {},
   "outputs": [
    {
     "name": "stdout",
     "output_type": "stream",
     "text": [
      "2025-02-15 23:59:45.548318\n",
      "2025-02-25 23:59:45.548318\n"
     ]
    }
   ],
   "source": [
    "import datetime\n",
    "a = datetime.datetime.now()\n",
    "print(a)\n",
    "d1 = a+datetime.timedelta(days=5)\n",
    "print(d1)\n"
   ]
  }
 ],
 "metadata": {
  "kernelspec": {
   "display_name": "Python 3",
   "language": "python",
   "name": "python3"
  },
  "language_info": {
   "codemirror_mode": {
    "name": "ipython",
    "version": 3
   },
   "file_extension": ".py",
   "mimetype": "text/x-python",
   "name": "python",
   "nbconvert_exporter": "python",
   "pygments_lexer": "ipython3",
   "version": "3.9.6"
  }
 },
 "nbformat": 4,
 "nbformat_minor": 2
}
