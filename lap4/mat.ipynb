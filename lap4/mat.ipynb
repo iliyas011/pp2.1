{
 "cells": [
  {
   "cell_type": "code",
   "execution_count": 13,
   "metadata": {},
   "outputs": [
    {
     "name": "stdout",
     "output_type": "stream",
     "text": [
      "30\n"
     ]
    }
   ],
   "source": [
    "import math\n",
    "L = int(input(\"Length of base: \" ))\n",
    "h = int(input(\"Height of parallelogram: \" ))\n",
    "print(L*h)"
   ]
  },
  {
   "cell_type": "code",
   "execution_count": 11,
   "metadata": {},
   "outputs": [
    {
     "name": "stdout",
     "output_type": "stream",
     "text": [
      "625.0000000000001\n"
     ]
    }
   ],
   "source": [
    "import math \n",
    "\n",
    "n = int(input())  \n",
    "l = int(input())  \n",
    "\n",
    "S = (n * (l**2)) / (4 * math.tan(math.pi / n)) \n",
    "print(S)\n"
   ]
  },
  {
   "cell_type": "code",
   "execution_count": 6,
   "metadata": {},
   "outputs": [
    {
     "name": "stdout",
     "output_type": "stream",
     "text": [
      "Expected Output: 27.5\n"
     ]
    }
   ],
   "source": [
    "import math \n",
    "h = float(input(\"Height: \" ))\n",
    "a1 = float(input(\"Base, first value: \" ))\n",
    "a2 = float(input(\"Base, second value: \" ))\n",
    "s = (a1+a2)/2*h\n",
    "print(\"Expected Output:\" , s)\n"
   ]
  },
  {
   "cell_type": "code",
   "execution_count": null,
   "metadata": {},
   "outputs": [
    {
     "name": "stdout",
     "output_type": "stream",
     "text": [
      "0.2617993877991494\n"
     ]
    }
   ],
   "source": [
    "import math \n",
    "a = int(input(\"Input degree:\" ))\n",
    "n = math.pi\n",
    "r =  a*n/180\n",
    "print(\"Output radian: \" , r)"
   ]
  }
 ],
 "metadata": {
  "kernelspec": {
   "display_name": "Python 3",
   "language": "python",
   "name": "python3"
  },
  "language_info": {
   "codemirror_mode": {
    "name": "ipython",
    "version": 3
   },
   "file_extension": ".py",
   "mimetype": "text/x-python",
   "name": "python",
   "nbconvert_exporter": "python",
   "pygments_lexer": "ipython3",
   "version": "3.9.6"
  }
 },
 "nbformat": 4,
 "nbformat_minor": 2
}
