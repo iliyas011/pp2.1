{
 "cells": [
  {
   "cell_type": "code",
   "execution_count": null,
   "metadata": {},
   "outputs": [],
   "source": [
    "tuple_data = (True, 1, \"Hello\", [1, 2], (3, 4), {\"key\": \"value\"})  \n",
    "\n",
    "batman = all(tuple_data)\n",
    "print(batman)\n"
   ]
  },
  {
   "cell_type": "code",
   "execution_count": null,
   "metadata": {},
   "outputs": [
    {
     "name": "stdout",
     "output_type": "stream",
     "text": [
      "158.42979517754858\n"
     ]
    }
   ],
   "source": [
    "import time\n",
    "import  math\n",
    "def karatel(n):\n",
    "    return math.sqrt(n)   \n",
    "    \n",
    "\n",
    "n = int(input())\n",
    "m = int(input())\n",
    "time.sleep(m/1000)\n",
    "print(karatel(n))\n"
   ]
  },
  {
   "cell_type": "code",
   "execution_count": null,
   "metadata": {},
   "outputs": [
    {
     "name": "stdout",
     "output_type": "stream",
     "text": [
      "palindrome\n"
     ]
    }
   ],
   "source": [
    "def karatel(s):\n",
    "    return s == ''.join(reversed(s))\n",
    "\n",
    "n = input()\n",
    "\n",
    "if karatel(n):\n",
    "    print(\"palindrome\")\n",
    "else:\n",
    "    print(\"not\")\n"
   ]
  },
  {
   "cell_type": "code",
   "execution_count": 7,
   "metadata": {},
   "outputs": [
    {
     "name": "stdout",
     "output_type": "stream",
     "text": [
      "(4, 5)\n"
     ]
    }
   ],
   "source": [
    "def karatel(n):\n",
    "    upper=sum(map(str.isupper , n))\n",
    "    lower=sum(map(str.islower , n))\n",
    "    return  upper , lower\n",
    "\n",
    "n = input()\n",
    "res = karatel(n)\n",
    "print(res)"
   ]
  },
  {
   "cell_type": "code",
   "execution_count": null,
   "metadata": {},
   "outputs": [
    {
     "name": "stdout",
     "output_type": "stream",
     "text": [
      "240\n"
     ]
    }
   ],
   "source": [
    "import math \n",
    "def Joker(num):\n",
    "    r = math.prod(num)\n",
    "    return r\n",
    "\n",
    "num = [1 ,2 ,4 ,5 , 6  ]\n",
    "r = Joker(num)\n",
    "print(r) "
   ]
  }
 ],
 "metadata": {
  "kernelspec": {
   "display_name": "Python 3",
   "language": "python",
   "name": "python3"
  },
  "language_info": {
   "codemirror_mode": {
    "name": "ipython",
    "version": 3
   },
   "file_extension": ".py",
   "mimetype": "text/x-python",
   "name": "python",
   "nbconvert_exporter": "python",
   "pygments_lexer": "ipython3",
   "version": "3.13.2"
  }
 },
 "nbformat": 4,
 "nbformat_minor": 2
}
