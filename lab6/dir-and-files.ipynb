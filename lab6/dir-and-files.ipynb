{
 "cells": [
  {
   "cell_type": "code",
   "execution_count": null,
   "metadata": {},
   "outputs": [
    {
     "name": "stdout",
     "output_type": "stream",
     "text": [
      "Error: The path '3' does not exist.\n",
      "Error: The path '3' does not exist.\n",
      "Error: The path '3' does not exist.\n"
     ]
    }
   ],
   "source": [
    "import os\n",
    "\n",
    "def list_directories(path):\n",
    "    \"\"\"Lists only directories in the specified path.\"\"\"\n",
    "    try:\n",
    "        directories = [d for d in os.listdir(path) if os.path.isdir(os.path.join(path, d))]\n",
    "        print(\"\\nOnly Directories:\")\n",
    "        for directory in directories:\n",
    "            print(directory)\n",
    "    except FileNotFoundError:\n",
    "        print(f\"Error: The path '{path}' does not exist.\")\n",
    "\n",
    "def list_files(path):\n",
    "    \"\"\"Lists only files in the specified path.\"\"\"\n",
    "    try:\n",
    "        files = [f for f in os.listdir(path) if os.path.isfile(os.path.join(path, f))]\n",
    "        print(\"\\nOnly Files:\")\n",
    "        for file in files:\n",
    "            print(file)\n",
    "    except FileNotFoundError:\n",
    "        print(f\"Error: The path '{path}' does not exist.\")\n",
    "\n",
    "def list_all(path):\n",
    "    \"\"\"Lists all directories and files in the specified path.\"\"\"\n",
    "    try:\n",
    "        all_items = os.listdir(path)\n",
    "        print(\"\\nAll Directories and Files:\")\n",
    "        for item in all_items:\n",
    "            print(item)\n",
    "    except FileNotFoundError:\n",
    "        print(f\"Error: The path '{path}' does not exist.\")\n",
    "\n",
    "if __name__ == \"__main__\":\n",
    "    path = input(\"Enter the directory path: \").strip()\n",
    "\n",
    "    list_directories(path)\n",
    "    list_files(path)\n",
    "    list_all(path)\n",
    "\n"
   ]
  },
  {
   "cell_type": "code",
   "execution_count": 19,
   "metadata": {},
   "outputs": [
    {
     "name": "stdout",
     "output_type": "stream",
     "text": [
      "Checking access for: text_file_with_strings.txt\n",
      "\n",
      " Path exists.\n",
      " It is a file.\n",
      " Readable.\n",
      " Writable.\n",
      " Not executable.\n"
     ]
    }
   ],
   "source": [
    "import os\n",
    "\n",
    "def check_path_access(path):\n",
    "    \"\"\"Checks existence, readability, writability, and executability of the specified path.\"\"\"\n",
    "    \n",
    "    print(f\"Checking access for: {path}\\n\")\n",
    "\n",
    "    if os.path.exists(path):\n",
    "        print(\" Path exists.\")\n",
    "    else:\n",
    "        print(\" Path does not exist.\")\n",
    "        return\n",
    "\n",
    "    if os.path.isfile(path):\n",
    "        print(\" It is a file.\")\n",
    "    elif os.path.isdir(path):\n",
    "        print(\" It is a directory.\")\n",
    "    else:\n",
    "        print(\" It is neither a regular file nor a directory.\")\n",
    "\n",
    "    if os.access(path, os.R_OK):\n",
    "        print(\" Readable.\")\n",
    "    else:\n",
    "        print(\" Not readable.\")\n",
    "\n",
    "    if os.access(path, os.W_OK):\n",
    "        print(\" Writable.\")\n",
    "    else:\n",
    "        print(\" Not writable.\")\n",
    "\n",
    "    if os.access(path, os.X_OK):\n",
    "        print(\" Executable.\")\n",
    "    else:\n",
    "        print(\" Not executable.\")\n",
    "\n",
    "\n",
    "if __name__ == \"__main__\":\n",
    "    path = input(\"Enter the path to check: \").strip()\n",
    "    check_path_access(path)\n"
   ]
  },
  {
   "cell_type": "code",
   "execution_count": null,
   "metadata": {},
   "outputs": [
    {
     "name": "stdout",
     "output_type": "stream",
     "text": [
      "✅ The path exists: T.TXT\n",
      "\n",
      "📁 Directory: \n",
      "📄 Filename: T.TXT\n"
     ]
    }
   ],
   "source": [
    "import os\n",
    "\n",
    "def check_path(path):\n",
    "    \"\"\"Check if the path exists and extract directory and filename.\"\"\"\n",
    "    \n",
    " \n",
    "    if os.path.exists(path):\n",
    "        print(f\"The path exists: {path}\\n\")\n",
    "\n",
    "        \n",
    "        directory = os.path.dirname(path)\n",
    "        print(f\"📁 Directory: {directory}\")\n",
    "\n",
    "\n",
    "        filename = os.path.basename(path)\n",
    "        print(f\" Filename: {filename}\")\n",
    "\n",
    "    else:\n",
    "        print(f\"The path does not exist: {path}\")\n",
    "\n",
    "\n",
    "if __name__ == \"__main__\":\n",
    "    path = input(\"Enter the path to check: \").strip()\n",
    "    check_path(path)\n"
   ]
  },
  {
   "cell_type": "code",
   "execution_count": 6,
   "metadata": {},
   "outputs": [
    {
     "name": "stdout",
     "output_type": "stream",
     "text": [
      "Number of lines in the file:  4\n"
     ]
    }
   ],
   "source": [
    "def file_lengthy(fname):\n",
    "        with open(fname) as f:\n",
    "                for i, l in enumerate(f):\n",
    "                        pass\n",
    "        return i + 1\n",
    "print(\"Number of lines in the file: \",file_lengthy(\"text_file_with_strings.txt\"))"
   ]
  },
  {
   "cell_type": "code",
   "execution_count": null,
   "metadata": {},
   "outputs": [
    {
     "name": "stdout",
     "output_type": "stream",
     "text": [
      "List has been written to 'fruits.txt' successfully!\n"
     ]
    }
   ],
   "source": [
    "def write_list_to_file(filename, data_list):\n",
    "    \"\"\"Writes a list of items to a file, each item on a new line.\"\"\"\n",
    "    with open(filename, \"w\") as file:\n",
    "        for item in data_list:\n",
    "            file.write(str(item) + \"\\n\")\n",
    "    print(f\"List has been written to '{filename}' successfully!\")\n",
    "\n",
    "\n",
    "my_list = [\"Apple\", \"Banana\", \"Cherry\", \"Date\", \"Elderberry\"]\n",
    "write_list_to_file(\"fruits.txt\", my_list)\n"
   ]
  },
  {
   "cell_type": "code",
   "execution_count": 13,
   "metadata": {},
   "outputs": [
    {
     "name": "stdout",
     "output_type": "stream",
     "text": [
      "26 text files (A-Z) have been created in the 'letters' folder.\n"
     ]
    }
   ],
   "source": [
    "import string\n",
    "import os\n",
    "\n",
    "\n",
    "folder_name = \"letters\"\n",
    "if not os.path.exists(folder_name):\n",
    "    os.makedirs(folder_name)\n",
    "\n",
    "\n",
    "for letter in string.ascii_uppercase:\n",
    "    file_path = os.path.join(folder_name, f\"{letter}.txt\")\n",
    "    with open(file_path, \"w\") as file:\n",
    "        file.write(letter)  \n",
    "\n",
    "print(\"26 text files (A-Z) have been created in the 'letters' folder.\")\n",
    "\n"
   ]
  },
  {
   "cell_type": "code",
   "execution_count": 14,
   "metadata": {},
   "outputs": [
    {
     "name": "stdout",
     "output_type": "stream",
     "text": [
      "Successfully copied contents from 'source.txt' to 'copy.txt'.\n"
     ]
    }
   ],
   "source": [
    "def copy_file(source_file, destination_file):\n",
    "    \"\"\"Copies the contents of one file to another.\"\"\"\n",
    "    try:\n",
    "        with open(source_file, \"r\") as src:\n",
    "            content = src.read()  \n",
    "\n",
    "        with open(destination_file, \"w\") as dest:\n",
    "            dest.write(content)  \n",
    "\n",
    "        print(f\"Successfully copied contents from '{source_file}' to '{destination_file}'.\")\n",
    "    \n",
    "    except FileNotFoundError:\n",
    "        print(f\" Error: The file '{source_file}' does not exist.\")\n",
    "\n",
    "\n",
    "source = \"source.txt\"\n",
    "destination = \"copy.txt\"\n",
    "\n",
    "\n",
    "with open(source, \"w\") as file:\n",
    "    file.write(\"This is a test file.\\nIt has multiple lines.\\nPython is great!\")\n",
    "\n",
    "\n",
    "copy_file(source, destination)\n"
   ]
  },
  {
   "cell_type": "code",
   "execution_count": 17,
   "metadata": {},
   "outputs": [
    {
     "name": "stdout",
     "output_type": "stream",
     "text": [
      "File 'U.txt' has been deleted successfully.\n"
     ]
    }
   ],
   "source": [
    "import os\n",
    "\n",
    "def delete_file(file_path):\n",
    "    \"\"\"Deletes a file after checking its existence and access permissions.\"\"\"\n",
    "    \n",
    "\n",
    "    if not os.path.exists(file_path):\n",
    "        print(f\" Error: The file '{file_path}' does not exist.\")\n",
    "        return\n",
    "\n",
    "\n",
    "    if not os.path.isfile(file_path):\n",
    "        print(f\" Error: '{file_path}' is not a file.\")\n",
    "        return\n",
    "\n",
    "\n",
    "    if not os.access(file_path, os.W_OK):\n",
    "        print(f\" Error: No write permission to delete '{file_path}'.\")\n",
    "        return\n",
    "\n",
    "\n",
    "    try:\n",
    "        os.remove(file_path)\n",
    "        print(f\"File '{file_path}' has been deleted successfully.\")\n",
    "    except Exception as e:\n",
    "        print(f\" Error: Could not delete '{file_path}'. Reason: {e}\")\n",
    "\n",
    "\n",
    "file_to_delete = input(\"Enter the file path to delete: \").strip()\n",
    "delete_file(file_to_delete)\n"
   ]
  }
 ],
 "metadata": {
  "kernelspec": {
   "display_name": "Python 3",
   "language": "python",
   "name": "python3"
  },
  "language_info": {
   "codemirror_mode": {
    "name": "ipython",
    "version": 3
   },
   "file_extension": ".py",
   "mimetype": "text/x-python",
   "name": "python",
   "nbconvert_exporter": "python",
   "pygments_lexer": "ipython3",
   "version": "3.13.2"
  }
 },
 "nbformat": 4,
 "nbformat_minor": 2
}
