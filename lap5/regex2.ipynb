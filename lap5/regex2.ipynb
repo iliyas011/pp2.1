{
 "cells": [
  {
   "cell_type": "code",
   "execution_count": 92,
   "metadata": {},
   "outputs": [
    {
     "name": "stdout",
     "output_type": "stream",
     "text": [
      "Yes\n",
      "Yes\n",
      "Yes\n"
     ]
    }
   ],
   "source": [
    "def isab(str_v):\n",
    "    pat = r\"ab*\"\n",
    "    if re.search(pat,str_v):\n",
    "        return \"Yes\"\n",
    "    else:\n",
    "        return \"No\"\n",
    "print(isab(\"Hello Worlda!\"))\n",
    "print(isab(\"aaaaa\"))\n",
    "print(isab(\"Hello Worldabbb\"))\n",
    "\n"
   ]
  },
  {
   "cell_type": "code",
   "execution_count": 93,
   "metadata": {},
   "outputs": [
    {
     "name": "stdout",
     "output_type": "stream",
     "text": [
      "No\n",
      "Yes\n",
      "Yes\n",
      "Yes\n"
     ]
    }
   ],
   "source": [
    "def isatwob(str_v):\n",
    "    pat = r\"ab{2,3}\"\n",
    "    if re.search(pat,str_v):\n",
    "        return \"Yes\"\n",
    "    else:\n",
    "        return \"No\"\n",
    "print(isatwob(\"abab\"))\n",
    "print(isatwob(\"abbb\"))\n",
    "print(isatwob(\"heabblloo\"))\n",
    "print(isatwob(\"Heababbbll\"))\n"
   ]
  },
  {
   "cell_type": "code",
   "execution_count": 94,
   "metadata": {},
   "outputs": [
    {
     "name": "stdout",
     "output_type": "stream",
     "text": [
      "No\n",
      "Yes\n",
      "Yes\n",
      "Yes\n"
     ]
    }
   ],
   "source": [
    "def third(str_v):\n",
    "    pat = r\"^[a-z]+_[a-z]+$\"\n",
    "    if re.search(pat,str_v):\n",
    "        return \"Yes\"\n",
    "    else:\n",
    "        return \"No\"\n",
    "print(third(\"ababhk\"))\n",
    "print(third(\"afh_f\"))\n",
    "print(third(\"heab_blloo\"))\n",
    "print(third(\"eababbbl_l\"))"
   ]
  },
  {
   "cell_type": "code",
   "execution_count": 95,
   "metadata": {},
   "outputs": [
    {
     "name": "stdout",
     "output_type": "stream",
     "text": [
      "Yes\n",
      "Yes\n",
      "No\n",
      "No\n"
     ]
    }
   ],
   "source": [
    "def four(str_v):\n",
    "    pat = r\"[A-Z]{1}[a-z]+\"\n",
    "    if re.search(pat,str_v):\n",
    "        return \"Yes\"\n",
    "    else:\n",
    "        return \"No\"\n",
    "print(four(\"abAbbb\"))\n",
    "print(four(\"abbbAb\"))\n",
    "print(four(\"AAA\"))\n",
    "print(four(\"A_aaaa\"))"
   ]
  },
  {
   "cell_type": "code",
   "execution_count": 96,
   "metadata": {},
   "outputs": [
    {
     "name": "stdout",
     "output_type": "stream",
     "text": [
      "Yes\n",
      "Yes\n",
      "Yes\n",
      "Yes\n"
     ]
    }
   ],
   "source": [
    "def five(str_v):\n",
    "    pat = r\"a.+b\"\n",
    "    if re.search(pat,str_v):\n",
    "        return \"Yes\"\n",
    "    else:\n",
    "        return \"No\"\n",
    "print(five(\"helalolb\"))\n",
    "print(five(\"a-b\"))\n",
    "print(five(\"aab\"))\n",
    "print(five(\"abba\"))"
   ]
  },
  {
   "cell_type": "code",
   "execution_count": 97,
   "metadata": {},
   "outputs": [
    {
     "name": "stdout",
     "output_type": "stream",
     "text": [
      "hello::world:\n"
     ]
    }
   ],
   "source": [
    "def six(str_v):\n",
    "    x = re.sub(r\"[ .,]\",\":\",str_v)\n",
    "    return x\n",
    "print(six(\"hello, world.\"))"
   ]
  },
  {
   "cell_type": "code",
   "execution_count": 98,
   "metadata": {},
   "outputs": [
    {
     "name": "stdout",
     "output_type": "stream",
     "text": [
      "SnakeToCamel\n"
     ]
    }
   ],
   "source": [
    "def snake_to_camel(str_v):\n",
    "    res = \"\"\n",
    "    x = re.split(r\"_\",str_v)\n",
    "    for i in x:\n",
    "        res += i.capitalize()\n",
    "    return res\n",
    "print(snake_to_camel(\"snake_to_camel\"))"
   ]
  },
  {
   "cell_type": "code",
   "execution_count": 99,
   "metadata": {},
   "outputs": [
    {
     "name": "stdout",
     "output_type": "stream",
     "text": [
      "['hello', 'o', 'ld']\n"
     ]
    }
   ],
   "source": [
    "def split_upper(str_v):\n",
    "    x = re.split(r\"[A-Z]\",str_v)\n",
    "    return x\n",
    "print(split_upper(\"helloWoRld\"))"
   ]
  },
  {
   "cell_type": "code",
   "execution_count": 100,
   "metadata": {},
   "outputs": [
    {
     "name": "stdout",
     "output_type": "stream",
     "text": [
      " I Hello World Hey\n"
     ]
    }
   ],
   "source": [
    "def space_to_capital(str_v):\n",
    "    x = re.sub(r\"([A-Z])\",r\" \\1\",str_v)\n",
    "    return x\n",
    "print(space_to_capital(\"IHelloWorldHey\"))"
   ]
  },
  {
   "cell_type": "code",
   "execution_count": 101,
   "metadata": {},
   "outputs": [
    {
     "name": "stdout",
     "output_type": "stream",
     "text": [
      "camel_to_snake\n"
     ]
    }
   ],
   "source": [
    "def camel_to_snake(str_v):\n",
    "    x = re.sub(r\"([A-Z])\",r\"_\\1\",str_v)\n",
    "    x = x.lower()\n",
    "    return x[1:]\n",
    "print(camel_to_snake(\"CamelToSnake\"))\n"
   ]
  }
 ],
 "metadata": {
  "kernelspec": {
   "display_name": "Python 3",
   "language": "python",
   "name": "python3"
  },
  "language_info": {
   "codemirror_mode": {
    "name": "ipython",
    "version": 3
   },
   "file_extension": ".py",
   "mimetype": "text/x-python",
   "name": "python",
   "nbconvert_exporter": "python",
   "pygments_lexer": "ipython3",
   "version": "3.12.5"
  }
 },
 "nbformat": 4,
 "nbformat_minor": 2
}
